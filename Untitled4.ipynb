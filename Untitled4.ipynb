{
  "nbformat": 4,
  "nbformat_minor": 0,
  "metadata": {
    "colab": {
      "provenance": [],
      "authorship_tag": "ABX9TyOSCtV22wWtpgtWgHoz0atC",
      "include_colab_link": true
    },
    "kernelspec": {
      "name": "python3",
      "display_name": "Python 3"
    },
    "language_info": {
      "name": "python"
    }
  },
  "cells": [
    {
      "cell_type": "markdown",
      "metadata": {
        "id": "view-in-github",
        "colab_type": "text"
      },
      "source": [
        "<a href=\"https://colab.research.google.com/github/silamparasan1188/jeeva/blob/main/Untitled4.ipynb\" target=\"_parent\"><img src=\"https://colab.research.google.com/assets/colab-badge.svg\" alt=\"Open In Colab\"/></a>"
      ]
    },
    {
      "cell_type": "code",
      "source": [
        "import numpy as np"
      ],
      "metadata": {
        "id": "WfATjPI9E0oC"
      },
      "execution_count": null,
      "outputs": []
    },
    {
      "cell_type": "code",
      "source": [
        "import pandas as pd"
      ],
      "metadata": {
        "id": "vPRaKsU5E0qx"
      },
      "execution_count": null,
      "outputs": []
    },
    {
      "cell_type": "code",
      "source": [
        "import matplotlib.pyplot as plt"
      ],
      "metadata": {
        "id": "S__4jPsME0uC"
      },
      "execution_count": null,
      "outputs": []
    },
    {
      "cell_type": "code",
      "source": [
        "import seaborn as sns"
      ],
      "metadata": {
        "id": "w7Joro2IE0wp"
      },
      "execution_count": null,
      "outputs": []
    },
    {
      "cell_type": "code",
      "source": [
        "from sklearn.model_selection import train_test_split"
      ],
      "metadata": {
        "id": "sqObv7ZSE0zx"
      },
      "execution_count": null,
      "outputs": []
    },
    {
      "cell_type": "code",
      "source": [
        "from sklearn.ensemble import RandomForestClassifier, GradientBoostingClassifier\n"
      ],
      "metadata": {
        "id": "mJ0RIMCtE02p"
      },
      "execution_count": null,
      "outputs": []
    },
    {
      "cell_type": "code",
      "source": [
        "from sklearn.tree import DecisionTreeClassifier"
      ],
      "metadata": {
        "id": "BSjmkJ5eE05a"
      },
      "execution_count": null,
      "outputs": []
    },
    {
      "cell_type": "code",
      "source": [
        "from sklearn.neighbors import KNeighborsClassifier"
      ],
      "metadata": {
        "id": "OZyRRy1IE08Z"
      },
      "execution_count": null,
      "outputs": []
    },
    {
      "cell_type": "code",
      "source": [
        "from sklearn.metrics import f1_score\n"
      ],
      "metadata": {
        "id": "F8HjbrPaE0_a"
      },
      "execution_count": null,
      "outputs": []
    },
    {
      "cell_type": "code",
      "source": [
        "from sklearn.metrics import classification_report, confusion_matrix\n"
      ],
      "metadata": {
        "id": "u9thf1t3E1CZ"
      },
      "execution_count": null,
      "outputs": []
    },
    {
      "cell_type": "code",
      "source": [
        "import warnings"
      ],
      "metadata": {
        "id": "79p3NWr5E1FB"
      },
      "execution_count": null,
      "outputs": []
    },
    {
      "cell_type": "code",
      "source": [
        "import pickle"
      ],
      "metadata": {
        "id": "7H1lC8DUE1HZ"
      },
      "execution_count": null,
      "outputs": []
    },
    {
      "cell_type": "code",
      "source": [
        "from scipy import stats"
      ],
      "metadata": {
        "id": "WXG-E07zGFlt"
      },
      "execution_count": null,
      "outputs": []
    },
    {
      "cell_type": "code",
      "source": [
        "warnings.filterwarnings('ignore')"
      ],
      "metadata": {
        "id": "djnTghm2GFoV"
      },
      "execution_count": null,
      "outputs": []
    },
    {
      "cell_type": "code",
      "source": [
        "plt.style.use('fivethirtyeight')"
      ],
      "metadata": {
        "id": "nNQwNoc8GFrN"
      },
      "execution_count": null,
      "outputs": []
    },
    {
      "cell_type": "code",
      "source": [
        "data=pd.read_csv(\"Data_Train.csv\")\n"
      ],
      "metadata": {
        "id": "_vVyQfolGFts"
      },
      "execution_count": null,
      "outputs": []
    },
    {
      "cell_type": "code",
      "source": [
        "data.head()"
      ],
      "metadata": {
        "id": "EXaR8U9LGFwk"
      },
      "execution_count": null,
      "outputs": []
    },
    {
      "cell_type": "code",
      "source": [
        "for i in category:"
      ],
      "metadata": {
        "id": "WcmDxBXqGFzM"
      },
      "execution_count": null,
      "outputs": []
    },
    {
      "cell_type": "code",
      "source": [
        "print(i,data{i},unique())"
      ],
      "metadata": {
        "id": "qbwIWvaoGF1t"
      },
      "execution_count": null,
      "outputs": []
    },
    {
      "cell_type": "code",
      "source": [
        "data.Data_of_journey=data,data_of_journey.str.split('/')"
      ],
      "metadata": {
        "id": "cMVkdh3IGF4c"
      },
      "execution_count": null,
      "outputs": []
    },
    {
      "cell_type": "code",
      "source": [
        "data.Data_of_journey"
      ],
      "metadata": {
        "id": "9NWAsdlEGF7c"
      },
      "execution_count": null,
      "outputs": []
    },
    {
      "cell_type": "code",
      "source": [
        "data.Total_stops.unique"
      ],
      "metadata": {
        "id": "oEWsPkb3IRWX"
      },
      "execution_count": null,
      "outputs": []
    },
    {
      "cell_type": "code",
      "source": [
        "data.rount=data.Route.str.split('+')"
      ],
      "metadata": {
        "id": "pWP7NPtrGF-E"
      },
      "execution_count": null,
      "outputs": []
    },
    {
      "cell_type": "code",
      "source": [
        "data.Rount"
      ],
      "metadata": {
        "id": "UkfhB2HCGGBF"
      },
      "execution_count": null,
      "outputs": []
    },
    {
      "cell_type": "code",
      "source": [
        "data.Dep_Time=data.Dep_Time.str.split(:)"
      ],
      "metadata": {
        "id": "3C4oTwUeJowO"
      },
      "execution_count": null,
      "outputs": []
    },
    {
      "cell_type": "code",
      "source": [
        "data['Dep_Time_Hour']=data.Dep_Time.str[0]"
      ],
      "metadata": {
        "id": "KR71itg-GGFs"
      },
      "execution_count": null,
      "outputs": []
    },
    {
      "cell_type": "code",
      "source": [
        "data['Dep_Time_Hour']=data.Dep_Time.str[1]"
      ],
      "metadata": {
        "id": "wLppyskiGGLE"
      },
      "execution_count": null,
      "outputs": []
    },
    {
      "cell_type": "code",
      "source": [
        "data.Arrival_Time=data.Arrival_Time.str.split('')"
      ],
      "metadata": {
        "id": "Fc7_68NsGGN1"
      },
      "execution_count": null,
      "outputs": []
    },
    {
      "cell_type": "code",
      "source": [
        "data['Arrival_data']=data.Arrival_Time.str[1]"
      ],
      "metadata": {
        "id": "1_uuE03gNVsl"
      },
      "execution_count": null,
      "outputs": []
    },
    {
      "cell_type": "code",
      "source": [
        "data['Time_of_Arrival']=data.Arrival_Time.str[0]"
      ],
      "metadata": {
        "id": "xJPgckFpOIEs"
      },
      "execution_count": null,
      "outputs": []
    },
    {
      "cell_type": "code",
      "source": [
        "data['Time-of-arrival']=data.Time_of_Arrival.str.split[':']"
      ],
      "metadata": {
        "id": "vnGIareyOlyt"
      },
      "execution_count": null,
      "outputs": []
    },
    {
      "cell_type": "code",
      "source": [
        "data['Arrival_Time_Hour']=data.Time_of_Arrival.str[0]"
      ],
      "metadata": {
        "id": "LT_9-d3_GGSM"
      },
      "execution_count": null,
      "outputs": []
    },
    {
      "cell_type": "code",
      "source": [
        "data['Arrival_Time_Hour']=data.Time_of_Arrival.str[1]"
      ],
      "metadata": {
        "id": "D6ttkLsNGGVE"
      },
      "execution_count": null,
      "outputs": []
    },
    {
      "cell_type": "code",
      "source": [
        "data.Duration=data.Duration.str.split('')"
      ],
      "metadata": {
        "id": "4PyMA-wHQi-8"
      },
      "execution_count": null,
      "outputs": []
    },
    {
      "cell_type": "code",
      "source": [
        "data['Travel_Hours']=data.Duration.str[0]"
      ],
      "metadata": {
        "id": "Vfqtl9efGGX1"
      },
      "execution_count": null,
      "outputs": []
    },
    {
      "cell_type": "code",
      "source": [
        "data['Travel_Hours']=data['Travel_Hours'.str.split('h')]"
      ],
      "metadata": {
        "id": "CYuOPCuLGGak"
      },
      "execution_count": null,
      "outputs": []
    },
    {
      "cell_type": "code",
      "source": [
        "data['Travel_Hours']=data['Travel Hours'].str[0]"
      ],
      "metadata": {
        "id": "qDtwDX3IGGds"
      },
      "execution_count": null,
      "outputs": []
    },
    {
      "cell_type": "code",
      "source": [
        "data.Travel_Hours=data.Travel_Hours"
      ],
      "metadata": {
        "id": "HFfPc-2iGGgV"
      },
      "execution_count": null,
      "outputs": []
    },
    {
      "cell_type": "code",
      "source": [
        "data.['travel_mins']=data.duration.str[1]"
      ],
      "metadata": {
        "id": "KzduA1LqGGjC"
      },
      "execution_count": null,
      "outputs": []
    },
    {
      "cell_type": "code",
      "source": [
        "data.Travel_mins=data.Duration.str.split('m')"
      ],
      "metadata": {
        "id": "swgSsKw9GGlo"
      },
      "execution_count": null,
      "outputs": []
    },
    {
      "cell_type": "code",
      "source": [
        "data.Travel_mins=data.Duration.str[0]"
      ],
      "metadata": {
        "id": "6gDLsEiHGGn_"
      },
      "execution_count": null,
      "outputs": []
    },
    {
      "cell_type": "code",
      "source": [
        "data.Total_stops.replace('non stop',0,inplace=True)"
      ],
      "metadata": {
        "id": "fXPvdXBnGGqm"
      },
      "execution_count": null,
      "outputs": []
    },
    {
      "cell_type": "code",
      "source": [
        "data.Total_stops=data.Total_stops.str[o]"
      ],
      "metadata": {
        "id": "7fV3mNIuGGs1"
      },
      "execution_count": null,
      "outputs": []
    },
    {
      "cell_type": "code",
      "source": [
        "#we also treat the 'total_stops'column,and replace non stop-Flight with 0 value and extract the integer part of the 'Total_"
      ],
      "metadata": {
        "id": "bkCI8k5pGGvk"
      },
      "execution_count": null,
      "outputs": []
    },
    {
      "cell_type": "code",
      "source": [
        "ta.Total_stops.replace('non_stop',0,inplace=True)"
      ],
      "metadata": {
        "id": "k-MNBc5VW_mI"
      },
      "execution_count": null,
      "outputs": []
    },
    {
      "cell_type": "code",
      "source": [
        "data.Total_stop=data.Total_stops.str.splite('')"
      ],
      "metadata": {
        "id": "UlJKNzqfWFa1"
      },
      "execution_count": null,
      "outputs": []
    },
    {
      "cell_type": "code",
      "source": [
        "data.Total_stops=data.Total_stops.str[0]"
      ],
      "metadata": {
        "id": "kWGV-vYSWFh9"
      },
      "execution_count": null,
      "outputs": []
    },
    {
      "cell_type": "code",
      "source": [
        "data.Additional_Info.unique()"
      ],
      "metadata": {
        "id": "L9Z92lQCWFkr"
      },
      "execution_count": null,
      "outputs": []
    },
    {
      "cell_type": "code",
      "source": [
        "array('no','In flight meal not include',\n",
        "      no cheak-in baggage included', 'i short loyover','No Info',\n",
        "      'i long layover','change airports','Businees class',\n",
        "      'Red-eye flight','2 long layover'], dtype=object)"
      ],
      "metadata": {
        "id": "_4AMZY8XWFnj"
      },
      "execution_count": null,
      "outputs": []
    },
    {
      "cell_type": "code",
      "source": [
        "data.Additional_Info.replace('No Info','No info',inplace=True)"
      ],
      "metadata": {
        "id": "RWC-m5rcWFqL"
      },
      "execution_count": null,
      "outputs": []
    },
    {
      "cell_type": "code",
      "source": [
        "data.isnull().sum()"
      ],
      "metadata": {
        "id": "wJ1mhSscdJq3"
      },
      "execution_count": null,
      "outputs": []
    },
    {
      "cell_type": "code",
      "source": [
        "data.drop(['Cily4','City5','City6'],axis=1,inplace=true=True)"
      ],
      "metadata": {
        "id": "BoroTaKTWFs0"
      },
      "execution_count": null,
      "outputs": []
    },
    {
      "cell_type": "code",
      "source": [
        "data.drop(['data_of_journey','Rount','Dep_Time','Arrival_Time','Duration'],axis=1, inplace=True)"
      ],
      "metadata": {
        "id": "pWWmq59OWFvb"
      },
      "execution_count": null,
      "outputs": []
    },
    {
      "cell_type": "code",
      "source": [
        "data.drop(['Time_of_Arrival'],axis=1,inplace=True)"
      ],
      "metadata": {
        "id": "fDdYfewgWFyL"
      },
      "execution_count": null,
      "outputs": []
    },
    {
      "cell_type": "code",
      "source": [
        "data.isnull().sum()"
      ],
      "metadata": {
        "id": "l57IkQrIgemY"
      },
      "execution_count": null,
      "outputs": []
    },
    {
      "cell_type": "code",
      "source": [
        "data['City'].fillna('None',inplace=True)"
      ],
      "metadata": {
        "id": "shu_FYS-WF07"
      },
      "execution_count": null,
      "outputs": []
    },
    {
      "cell_type": "code",
      "source": [
        "data['Arrival_data'].Fillna(data['Date'].inplace=True)"
      ],
      "metadata": {
        "id": "HxBWaYUvWF3o"
      },
      "execution_count": null,
      "outputs": []
    },
    {
      "cell_type": "code",
      "source": [
        "data['travel_Nins'].Fillna(0,inplace=True)"
      ],
      "metadata": {
        "id": "t51z6bkQcJJk"
      },
      "execution_count": null,
      "outputs": []
    },
    {
      "cell_type": "code",
      "source": [
        "data.info()"
      ],
      "metadata": {
        "id": "DrPwhjdGcJMb"
      },
      "execution_count": null,
      "outputs": []
    },
    {
      "cell_type": "code",
      "source": [
        "data.Date=data.Date.astype('int64')"
      ],
      "metadata": {
        "id": "c8xU3jslcJPT"
      },
      "execution_count": null,
      "outputs": []
    },
    {
      "cell_type": "code",
      "source": [
        "data.Month=data.Month.astype('int64')"
      ],
      "metadata": {
        "id": "oOdjohOqcJSI"
      },
      "execution_count": null,
      "outputs": []
    },
    {
      "cell_type": "code",
      "source": [
        "data.Year=data.Year.astype('int64')"
      ],
      "metadata": {
        "id": "ywwWYqAjcJVA"
      },
      "execution_count": null,
      "outputs": []
    },
    {
      "cell_type": "code",
      "source": [
        "data.Dep_Time_Hour=data.Dep_Time_Hour.astype('int64')"
      ],
      "metadata": {
        "id": "oocbZySZcJX3"
      },
      "execution_count": null,
      "outputs": []
    },
    {
      "cell_type": "code",
      "source": [
        "data.Dep_Time_Hour=data.Dep_Time_Hour.astype('int64')"
      ],
      "metadata": {
        "id": "fZ1zvlz1cJau"
      },
      "execution_count": null,
      "outputs": []
    },
    {
      "cell_type": "code",
      "source": [
        "data.Dep_Time.Mins=data.Dep_Time_Mins.astype('int64')"
      ],
      "metadata": {
        "id": "ts4CvERMcJdm"
      },
      "execution_count": null,
      "outputs": []
    },
    {
      "cell_type": "code",
      "source": [
        "data.Arrival_data=data.Arrival_date.astype('int64')"
      ],
      "metadata": {
        "id": "BK0BGVLRcJgv"
      },
      "execution_count": null,
      "outputs": []
    },
    {
      "cell_type": "code",
      "source": [
        "data.Arrival_Time_Hour=data.Arrival_Time_Hour.astype('int64')"
      ],
      "metadata": {
        "id": "4EvQ_LtgcJjm"
      },
      "execution_count": null,
      "outputs": []
    },
    {
      "cell_type": "code",
      "source": [
        "data.Arrival_Time_Hour=data.Arrival_Time_Mine.astype('int64')"
      ],
      "metadata": {
        "id": "5fngXt1RcJmM"
      },
      "execution_count": null,
      "outputs": []
    },
    {
      "cell_type": "code",
      "source": [
        "data.Travel_Mine=data.Traval_Mins.astype('int64')"
      ],
      "metadata": {
        "id": "sN5bIE1ocJpE"
      },
      "execution_count": null,
      "outputs": []
    },
    {
      "cell_type": "code",
      "source": [
        "data[data['Traval_Hours']=='sm']"
      ],
      "metadata": {
        "id": "qqnjJbIZF181"
      },
      "execution_count": null,
      "outputs": []
    },
    {
      "cell_type": "code",
      "source": [
        "data.Travel_Hours-data.Travel_Hours.astype('int64')"
      ],
      "metadata": {
        "id": "-jGYUJdgcJrr"
      },
      "execution_count": null,
      "outputs": []
    },
    {
      "cell_type": "code",
      "source": [
        "categorical=['Airline', 'Source', 'Destination', 'Additional_Info\",\"City\"]"
      ],
      "metadata": {
        "id": "WOjIZI_scJur"
      },
      "execution_count": null,
      "outputs": []
    },
    {
      "cell_type": "code",
      "source": [
        "numerical=['Total Stops', 'Date', 'Month', 'Year', 'Dep_Time_Hour', 'Dep_Time_Mins', 'Arrival_date', 'Arrival_Time_Hour', \"Arrival Time_Mins', 'Travel_Hours', 'Travel_Mins']"
      ],
      "metadata": {
        "id": "7lTxM8sxcJxb"
      },
      "execution_count": null,
      "outputs": []
    },
    {
      "cell_type": "code",
      "source": [
        "from sklearn.preprocessing import LabelEncoder le-LabelEncoder()"
      ],
      "metadata": {
        "id": "1DnJycbKcJ0Q"
      },
      "execution_count": null,
      "outputs": []
    },
    {
      "cell_type": "code",
      "source": [
        " data.Airline-le.fit_transform(data.Airline) "
      ],
      "metadata": {
        "id": "VFNFrjiWcJ3I"
      },
      "execution_count": null,
      "outputs": []
    },
    {
      "cell_type": "code",
      "source": [
        " data.Source-le.fit_transform(data.Source) "
      ],
      "metadata": {
        "id": "ohZ8mtR8cJ5_"
      },
      "execution_count": null,
      "outputs": []
    },
    {
      "cell_type": "code",
      "source": [
        "data.Destination-le.fit_transform(data.Destination) "
      ],
      "metadata": {
        "id": "I5xF4S2tcJ83"
      },
      "execution_count": null,
      "outputs": []
    },
    {
      "cell_type": "code",
      "source": [
        " data. Total Stops-le.fit_transform(data. Total Stops) "
      ],
      "metadata": {
        "id": "MAtSGdsZcJ_v"
      },
      "execution_count": null,
      "outputs": []
    },
    {
      "cell_type": "code",
      "source": [
        "data.Citylle.fit_transform(data.City) data.City2-le.fit_transform(data.city2) "
      ],
      "metadata": {
        "id": "cQYQZUb_cKCl"
      },
      "execution_count": null,
      "outputs": []
    },
    {
      "cell_type": "code",
      "source": [
        " data.City3-le.fit_transform(data.City3)"
      ],
      "metadata": {
        "id": "Cig_W6ZicKFE"
      },
      "execution_count": null,
      "outputs": []
    },
    {
      "cell_type": "code",
      "source": [
        " data.Additional Info=le.fit_transform(data.Additional Info) "
      ],
      "metadata": {
        "id": "YM5bh6SEcKH8"
      },
      "execution_count": null,
      "outputs": []
    },
    {
      "cell_type": "code",
      "source": [
        " data.head() "
      ],
      "metadata": {
        "id": "o1AinUvocKLD"
      },
      "execution_count": null,
      "outputs": []
    },
    {
      "cell_type": "code",
      "source": [
        "data=data[['Airline','Source','Destination','Data','Month','Year','Dep_Time_Hour','Dep_Time_Hours','Dep_Time_Mins','Arrival_Data','Arrival_Time']]"
      ],
      "metadata": {
        "id": "Ktt5AHDvcKNj"
      },
      "execution_count": null,
      "outputs": []
    },
    {
      "cell_type": "code",
      "source": [
        "impotr seaborn as sns"
      ],
      "metadata": {
        "id": "K441GMgmcKQp"
      },
      "execution_count": null,
      "outputs": []
    },
    {
      "cell_type": "code",
      "source": [
        "c=1"
      ],
      "metadata": {
        "id": "ocF1BiJAcKTb"
      },
      "execution_count": null,
      "outputs": []
    },
    {
      "cell_type": "code",
      "source": [
        "plt.figure(figsize-(20,45))"
      ],
      "metadata": {
        "id": "TPpXUymRcKVr"
      },
      "execution_count": null,
      "outputs": []
    },
    {
      "cell_type": "code",
      "source": [
        "for i in categorical;"
      ],
      "metadata": {
        "id": "GCk8kKcMLTQG"
      },
      "execution_count": null,
      "outputs": []
    },
    {
      "cell_type": "code",
      "source": [
        "plt.subplot(6,3,c)"
      ],
      "metadata": {
        "id": "SxtKzdTTLTSe"
      },
      "execution_count": null,
      "outputs": []
    },
    {
      "cell_type": "code",
      "source": [
        " sns.countplot(data[i]) "
      ],
      "metadata": {
        "id": "HptV3errLTU9"
      },
      "execution_count": null,
      "outputs": []
    },
    {
      "cell_type": "code",
      "source": [
        "plt.xticks(rotation-90)"
      ],
      "metadata": {
        "id": "uBoqR2k_LTXO"
      },
      "execution_count": null,
      "outputs": []
    },
    {
      "cell_type": "code",
      "source": [
        "plt.tight layout(pad-3.0)"
      ],
      "metadata": {
        "id": "UFNQIxwhLTZj"
      },
      "execution_count": null,
      "outputs": []
    },
    {
      "cell_type": "code",
      "source": [
        " C=C+1"
      ],
      "metadata": {
        "id": "pUv5VWb5LTcL"
      },
      "execution_count": null,
      "outputs": []
    },
    {
      "cell_type": "code",
      "source": [
        "plt.show()"
      ],
      "metadata": {
        "id": "r1XXwU-SLTfA"
      },
      "execution_count": null,
      "outputs": []
    },
    {
      "cell_type": "code",
      "source": [
        "plt.figure(figsize=(15,8))"
      ],
      "metadata": {
        "id": "KK0tRPh7LThr"
      },
      "execution_count": null,
      "outputs": []
    },
    {
      "cell_type": "code",
      "source": [
        " sns.distplot(data.Price)"
      ],
      "metadata": {
        "id": "q8OwgWBjLTkM"
      },
      "execution_count": null,
      "outputs": []
    },
    {
      "cell_type": "code",
      "source": [
        "sns.heatmap(data.corr(),annot=true)"
      ],
      "metadata": {
        "id": "6jv3QZAuLTms"
      },
      "execution_count": null,
      "outputs": []
    },
    {
      "cell_type": "code",
      "source": [
        "import seaborn as sns"
      ],
      "metadata": {
        "id": "dKeScaKYLTo9"
      },
      "execution_count": null,
      "outputs": []
    },
    {
      "cell_type": "code",
      "source": [
        "sns.boxplot(data['Price'])"
      ],
      "metadata": {
        "id": "bXWEVYmvLTrg"
      },
      "execution_count": null,
      "outputs": []
    },
    {
      "cell_type": "code",
      "source": [
        "y= data['Price']"
      ],
      "metadata": {
        "id": "1q4L2l5yLTt7"
      },
      "execution_count": null,
      "outputs": []
    },
    {
      "cell_type": "code",
      "source": [
        " x = data.drop(columns=['Price'],axis=1)"
      ],
      "metadata": {
        "id": "aDrIBO7zLTwW"
      },
      "execution_count": null,
      "outputs": []
    },
    {
      "cell_type": "code",
      "source": [
        " Data from sklearn.preprocessing import StandardScaler "
      ],
      "metadata": {
        "id": "7y4HtIzGLTzE"
      },
      "execution_count": null,
      "outputs": []
    },
    {
      "cell_type": "code",
      "source": [
        "ss-StandardScaler()"
      ],
      "metadata": {
        "id": "B0wsGG3yLT1Z"
      },
      "execution_count": null,
      "outputs": []
    },
    {
      "cell_type": "code",
      "source": [
        "X_scaled = ss.fit_transform(x) "
      ],
      "metadata": {
        "id": "HvmgjQHsLT4D"
      },
      "execution_count": null,
      "outputs": []
    },
    {
      "cell_type": "code",
      "source": [
        "x_scaled = pd.DataFrame(x_scaled, columns=x.columns)"
      ],
      "metadata": {
        "id": "O5BnSK41LT7F"
      },
      "execution_count": null,
      "outputs": []
    },
    {
      "cell_type": "code",
      "source": [
        "x_scaled.head()"
      ],
      "metadata": {
        "id": "975w99_kLT9z"
      },
      "execution_count": null,
      "outputs": []
    },
    {
      "cell_type": "code",
      "source": [
        "from sklearn.model_selection import train_test_split"
      ],
      "metadata": {
        "id": "Xecmh4RlLUA0"
      },
      "execution_count": null,
      "outputs": []
    },
    {
      "cell_type": "code",
      "source": [
        "x_train,x_test,y_train,y_test-train_test_split(x,y,test_size=0.2, random_state=42) "
      ],
      "metadata": {
        "id": "onMWLl4GLUDL"
      },
      "execution_count": null,
      "outputs": []
    },
    {
      "cell_type": "code",
      "source": [
        "x_train.head()"
      ],
      "metadata": {
        "id": "cO5QAv7QLUGB"
      },
      "execution_count": null,
      "outputs": []
    },
    {
      "cell_type": "code",
      "source": [
        "from sklearn.ensemble import RandomForestRegressor, GradientBoostingRegressor, AdaBoostRegressor \n",
        "rfr-RandomForestRegressor() \n",
        "gb-Gradient BoostingRegressor()\n",
        " ad-AdaBoostRegressor()"
      ],
      "metadata": {
        "id": "jJ7k6D9CLUIr"
      },
      "execution_count": null,
      "outputs": []
    },
    {
      "cell_type": "code",
      "source": [
        "from sklearn.metrics import r2_score,mean_absolute_error,mean_squared_erron"
      ],
      "metadata": {
        "id": "aB9m3zlsLULk"
      },
      "execution_count": null,
      "outputs": []
    },
    {
      "cell_type": "code",
      "source": [
        "for i in [rfr, gb,ad]: "
      ],
      "metadata": {
        "id": "_AD4e4e9LUOG"
      },
      "execution_count": null,
      "outputs": []
    },
    {
      "cell_type": "code",
      "source": [
        " i.fit(x_train,y_train) y_pred-i.predict(x_test)"
      ],
      "metadata": {
        "id": "ZVgKAUxQLURC"
      },
      "execution_count": null,
      "outputs": []
    },
    {
      "cell_type": "code",
      "source": [
        "test_score=r2_score (y_test,y_pred)"
      ],
      "metadata": {
        "id": "Oy8VQ8w3LUT1"
      },
      "execution_count": null,
      "outputs": []
    },
    {
      "cell_type": "code",
      "source": [
        " train_score r2_score (y_train, i.predict(x_train)) "
      ],
      "metadata": {
        "id": "qcXEeKMDLUWj"
      },
      "execution_count": null,
      "outputs": []
    },
    {
      "cell_type": "code",
      "source": [
        "if abs(train_score-test_score)<=8.2:"
      ],
      "metadata": {
        "id": "KVz8ULNNLUZb"
      },
      "execution_count": null,
      "outputs": []
    },
    {
      "cell_type": "code",
      "source": [
        "print(1)"
      ],
      "metadata": {
        "id": "ZWt2mOF7LUcL"
      },
      "execution_count": null,
      "outputs": []
    },
    {
      "cell_type": "code",
      "source": [
        "print(\"R2 score is\", r2_score (y_test,y_pred))"
      ],
      "metadata": {
        "id": "RMFuRh-yLWqT"
      },
      "execution_count": null,
      "outputs": []
    },
    {
      "cell_type": "code",
      "source": [
        " print(\"R2 for train data\", r2_score (y_train, i.predict(x_train))) "
      ],
      "metadata": {
        "id": "Ueh6QD9kLWti"
      },
      "execution_count": null,
      "outputs": []
    },
    {
      "cell_type": "code",
      "source": [
        " print(\"Mean Absolute Error is\", mean absolute_error(y_pred,y_test))"
      ],
      "metadata": {
        "id": "_oPpOeYrLWw0"
      },
      "execution_count": null,
      "outputs": []
    },
    {
      "cell_type": "code",
      "source": [
        "print(\"Mean Squared Error is\", mean squared_error(y_pred,y_test)) "
      ],
      "metadata": {
        "id": "LP_5zsLPLW0M"
      },
      "execution_count": null,
      "outputs": []
    },
    {
      "cell_type": "code",
      "source": [
        "print(\"Root Mean Sqaured Error is\", (mean squared_error(y_pred,y_fals,"
      ],
      "metadata": {
        "id": "2oMctYvKLW3K"
      },
      "execution_count": null,
      "outputs": []
    },
    {
      "cell_type": "code",
      "source": [
        "from sklearn.neighbors import KNeighbors Regressor"
      ],
      "metadata": {
        "id": "dgiBu4g5LW6_"
      },
      "execution_count": null,
      "outputs": []
    },
    {
      "cell_type": "code",
      "source": [
        "from sklearn.svm import SVR"
      ],
      "metadata": {
        "id": "inQHvLLALW-b"
      },
      "execution_count": null,
      "outputs": []
    },
    {
      "cell_type": "code",
      "source": [
        "from sklearn.tree import DecisionTreeRegressor"
      ],
      "metadata": {
        "id": "lVDdEqb7LXB1"
      },
      "execution_count": null,
      "outputs": []
    },
    {
      "cell_type": "code",
      "source": [
        "from sklearn.metrics import"
      ],
      "metadata": {
        "id": "LDCzT6JXLXEb"
      },
      "execution_count": null,
      "outputs": []
    },
    {
      "cell_type": "code",
      "source": [
        " knn-KNeighbors Regressor()"
      ],
      "metadata": {
        "id": "HpqOeKxcLXJQ"
      },
      "execution_count": null,
      "outputs": []
    },
    {
      "cell_type": "code",
      "source": [
        "Svr-SVR()"
      ],
      "metadata": {
        "id": "KTmEQ31aLXKH"
      },
      "execution_count": null,
      "outputs": []
    },
    {
      "cell_type": "code",
      "source": [
        " dt-DecisionTreeRegressor() "
      ],
      "metadata": {
        "id": "tgeiKPENUCJK"
      },
      "execution_count": null,
      "outputs": []
    },
    {
      "cell_type": "code",
      "source": [
        "for i in [knn, svr,dt]:"
      ],
      "metadata": {
        "id": "_8Ms7z99UCLs"
      },
      "execution_count": null,
      "outputs": []
    },
    {
      "cell_type": "code",
      "source": [
        "1.fit(x_train,y_train) "
      ],
      "metadata": {
        "id": "XaVTFYwJUCOZ"
      },
      "execution_count": null,
      "outputs": []
    },
    {
      "cell_type": "code",
      "source": [
        " y_pred-i.predict(x_test) "
      ],
      "metadata": {
        "id": "YToaX5QYUCRR"
      },
      "execution_count": null,
      "outputs": []
    },
    {
      "cell_type": "code",
      "source": [
        "test_score-r2_score (y_test,y_pred)"
      ],
      "metadata": {
        "id": "2lN6NWfUUCUT"
      },
      "execution_count": null,
      "outputs": []
    },
    {
      "cell_type": "code",
      "source": [
        " train score-r2_score (y_train,1.predict(x_train))"
      ],
      "metadata": {
        "id": "TuPsgKIGUCXR"
      },
      "execution_count": null,
      "outputs": []
    },
    {
      "cell_type": "code",
      "source": [
        "if abs(train score test score)<-0.1: "
      ],
      "metadata": {
        "id": "_0ESycZkUCaj"
      },
      "execution_count": null,
      "outputs": []
    },
    {
      "cell_type": "code",
      "source": [
        ": print(1) "
      ],
      "metadata": {
        "id": "mqVys0E4UCdz"
      },
      "execution_count": null,
      "outputs": []
    },
    {
      "cell_type": "code",
      "source": [
        " print(\"R2 Score is,r2_score (y_test,y pred)) "
      ],
      "metadata": {
        "id": "_a4qtgYdUCf5"
      },
      "execution_count": null,
      "outputs": []
    },
    {
      "cell_type": "code",
      "source": [
        "print(\"R2 Score for train data,r2 score (y_train, i.predict(x_train))"
      ],
      "metadata": {
        "id": "CShg5RWqUCiz"
      },
      "execution_count": null,
      "outputs": []
    },
    {
      "cell_type": "code",
      "source": [
        " print(\"Mean Absolute Error is,mean absolute_error(y_test,y_pred)) "
      ],
      "metadata": {
        "id": "H_GOTnxtUClw"
      },
      "execution_count": null,
      "outputs": []
    },
    {
      "cell_type": "code",
      "source": [
        "print(\"Mean Squared Erron is,mean squared_error(y_test,y_pred)) "
      ],
      "metadata": {
        "id": "WS5b8nGaUCoo"
      },
      "execution_count": null,
      "outputs": []
    },
    {
      "cell_type": "code",
      "source": [
        "print(\"Root Mean Squared Error is',(mean_squared_erro(y_test,y_pred,squaraed=false)))"
      ],
      "metadata": {
        "id": "Es9s_LIiUCr5"
      },
      "execution_count": null,
      "outputs": []
    },
    {
      "cell_type": "code",
      "source": [
        "from sklearn.model_selection import cross_val_score"
      ],
      "metadata": {
        "id": "k5SvA3sdUCuo"
      },
      "execution_count": null,
      "outputs": []
    },
    {
      "cell_type": "code",
      "source": [
        "for i in range(2,5):"
      ],
      "metadata": {
        "id": "sO7z7ixGUCx_"
      },
      "execution_count": null,
      "outputs": []
    },
    {
      "cell_type": "code",
      "source": [
        " CV-cross_val_score (rfr,x,y,cv=i)"
      ],
      "metadata": {
        "id": "Wmq1-x7BUC1D"
      },
      "execution_count": null,
      "outputs": []
    },
    {
      "cell_type": "code",
      "source": [
        " print (rfr,cv.mean())+"
      ],
      "metadata": {
        "id": "FQ4qHohcUC3-"
      },
      "execution_count": null,
      "outputs": []
    },
    {
      "cell_type": "code",
      "source": [
        "from sklearn.model_selection import RandomizedSearchCV"
      ],
      "metadata": {
        "id": "mCAgC1V3UC7Y"
      },
      "execution_count": null,
      "outputs": []
    },
    {
      "cell_type": "code",
      "source": [
        "param_grid={'n_estimators': [10,30,50,70,100], 'max_depth': [None,1,2,3], 'max_features': ['auto', 'sqrt']}\n"
      ],
      "metadata": {
        "id": "FXt1T4EgUC-U"
      },
      "execution_count": null,
      "outputs": []
    },
    {
      "cell_type": "code",
      "source": [
        "rfr-RandomForestRegressor()"
      ],
      "metadata": {
        "id": "5nI1kkDKUDA1"
      },
      "execution_count": null,
      "outputs": []
    },
    {
      "cell_type": "code",
      "source": [
        " rf_res-RandomizedSearchCV(estimator-rfr, param_distributions-param_grid, cv-3, verbose=2,n_jobs=-1)\n"
      ],
      "metadata": {
        "id": "wxJKscyGUDEO"
      },
      "execution_count": null,
      "outputs": []
    },
    {
      "cell_type": "code",
      "source": [
        "rf_res.fit(x_train,y_train)\n"
      ],
      "metadata": {
        "id": "Ybq1TBSkUDHn"
      },
      "execution_count": null,
      "outputs": []
    },
    {
      "cell_type": "code",
      "source": [
        "rfr-RandomForestRegressor (n_estimators=10, max_features='sqrt', max_depth=None) "
      ],
      "metadata": {
        "id": "tb-5cKMFUDLp"
      },
      "execution_count": null,
      "outputs": []
    },
    {
      "cell_type": "code",
      "source": [
        "rfr.fit(x_train,y_train"
      ],
      "metadata": {
        "id": "ySzhmaf3UDPQ"
      },
      "execution_count": null,
      "outputs": []
    },
    {
      "cell_type": "code",
      "source": [
        " y_test_pred-rfr.predict(x_test)"
      ],
      "metadata": {
        "id": "3iZfH_xcUDYA"
      },
      "execution_count": null,
      "outputs": []
    },
    {
      "cell_type": "code",
      "source": [
        "print(\"train accuracy\", r2_score (y_train_pred,y_train)"
      ],
      "metadata": {
        "id": "29yuVe0sUDaY"
      },
      "execution_count": null,
      "outputs": []
    },
    {
      "cell_type": "code",
      "source": [
        "print(\"test accuracy\", r2_score (y_test_pred,y_test))"
      ],
      "metadata": {
        "id": "5MY4JmLQUDde"
      },
      "execution_count": null,
      "outputs": []
    },
    {
      "cell_type": "code",
      "source": [
        "knn-KNeighbors Regressor (n_neighbors-2, algorithm= 'auto',metric_params=None,n_jobs=-1)\n"
      ],
      "metadata": {
        "id": "F2hVS3dwUDgI"
      },
      "execution_count": null,
      "outputs": []
    },
    {
      "cell_type": "code",
      "source": [
        " knn.fit(x_train,y_train)"
      ],
      "metadata": {
        "id": "XU1PqTOOUDjA"
      },
      "execution_count": null,
      "outputs": []
    },
    {
      "cell_type": "code",
      "source": [
        "y_train_pred-knn.predict(x_train)"
      ],
      "metadata": {
        "id": "byrkLgn-UDl1"
      },
      "execution_count": null,
      "outputs": []
    },
    {
      "cell_type": "code",
      "source": [
        "y_test_pred-knn.predict(x_test)"
      ],
      "metadata": {
        "id": "VNPfYGSvUDox"
      },
      "execution_count": null,
      "outputs": []
    },
    {
      "cell_type": "code",
      "source": [
        "print(\"train accuracy\", r2_score (y_train_pred,y_train))"
      ],
      "metadata": {
        "id": "7grk5leRUDrv"
      },
      "execution_count": null,
      "outputs": []
    },
    {
      "cell_type": "code",
      "source": [
        "print(\"test accuracy\", r2_score (y_test_pred,y_test))"
      ],
      "metadata": {
        "id": "u_kM6acAUDuh"
      },
      "execution_count": null,
      "outputs": []
    },
    {
      "cell_type": "code",
      "source": [
        "rfr-RandomForestRegressor (n_estimators-10,max_features=\"sqrt', max_depth=None) "
      ],
      "metadata": {
        "id": "ninrbhTQUDxo"
      },
      "execution_count": null,
      "outputs": []
    },
    {
      "cell_type": "code",
      "source": [
        "rfr.fit(x_train,y_train)"
      ],
      "metadata": {
        "id": "TWdN0hFoUD0R"
      },
      "execution_count": null,
      "outputs": []
    },
    {
      "cell_type": "code",
      "source": [
        " y_test_pred-rfr.predict(x_test)"
      ],
      "metadata": {
        "id": "oaitOo8aUD3A"
      },
      "execution_count": null,
      "outputs": []
    },
    {
      "cell_type": "code",
      "source": [
        " print(\"train accuracy\", r2_score(y_train_pred,y_train))"
      ],
      "metadata": {
        "id": "E6UbKgWlUD54"
      },
      "execution_count": null,
      "outputs": []
    },
    {
      "cell_type": "code",
      "source": [
        "print(\"test accuracy\",r2_score (y_test_pred,y_test))"
      ],
      "metadata": {
        "id": "OcGMWoaNUD8w"
      },
      "execution_count": null,
      "outputs": []
    },
    {
      "cell_type": "code",
      "source": [
        "price_list=pd.DataFrame({'price':price})"
      ],
      "metadata": {
        "id": "cHBCRN6UUD_m"
      },
      "execution_count": null,
      "outputs": []
    },
    {
      "cell_type": "code",
      "source": [
        "import pickle"
      ],
      "metadata": {
        "id": "zYsDFs4mUECN"
      },
      "execution_count": null,
      "outputs": []
    },
    {
      "cell_type": "code",
      "source": [
        "pickle.dump(rfr,open('modell.pkl','wb'))"
      ],
      "metadata": {
        "id": "WRWoEwfLUEE2"
      },
      "execution_count": null,
      "outputs": []
    },
    {
      "cell_type": "code",
      "source": [
        "import pickle"
      ],
      "metadata": {
        "id": "3bIBaJvmUEHb"
      },
      "execution_count": null,
      "outputs": []
    },
    {
      "cell_type": "code",
      "source": [
        "pickle.dump(rfr,open('modell.pkl','wb'))"
      ],
      "metadata": {
        "id": "dqi-FfMdUEJ4"
      },
      "execution_count": null,
      "outputs": []
    }
  ]
}